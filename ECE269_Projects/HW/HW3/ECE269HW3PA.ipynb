{
  "nbformat": 4,
  "nbformat_minor": 0,
  "metadata": {
    "colab": {
      "name": "ECE269HW3PA.ipynb",
      "provenance": [],
      "collapsed_sections": []
    },
    "kernelspec": {
      "name": "python3",
      "display_name": "Python 3"
    },
    "language_info": {
      "name": "python"
    }
  },
  "cells": [
    {
      "cell_type": "code",
      "metadata": {
        "colab": {
          "base_uri": "https://localhost:8080/",
          "height": 344
        },
        "id": "wUgPnQ_-G5mC",
        "outputId": "dbf5bbb9-b6cc-4b7a-800a-c1af97c13437"
      },
      "source": [
        "!pip install numpy --upgrade"
      ],
      "execution_count": null,
      "outputs": [
        {
          "output_type": "stream",
          "name": "stdout",
          "text": [
            "Requirement already satisfied: numpy in /usr/local/lib/python3.7/dist-packages (1.19.5)\n",
            "Collecting numpy\n",
            "  Downloading numpy-1.21.4-cp37-cp37m-manylinux_2_12_x86_64.manylinux2010_x86_64.whl (15.7 MB)\n",
            "\u001b[K     |████████████████████████████████| 15.7 MB 106 kB/s \n",
            "\u001b[?25hInstalling collected packages: numpy\n",
            "  Attempting uninstall: numpy\n",
            "    Found existing installation: numpy 1.19.5\n",
            "    Uninstalling numpy-1.19.5:\n",
            "      Successfully uninstalled numpy-1.19.5\n",
            "\u001b[31mERROR: pip's dependency resolver does not currently take into account all the packages that are installed. This behaviour is the source of the following dependency conflicts.\n",
            "datascience 0.10.6 requires folium==0.2.1, but you have folium 0.8.3 which is incompatible.\n",
            "albumentations 0.1.12 requires imgaug<0.2.7,>=0.2.5, but you have imgaug 0.2.9 which is incompatible.\u001b[0m\n",
            "Successfully installed numpy-1.21.4\n"
          ]
        },
        {
          "output_type": "display_data",
          "data": {
            "application/vnd.colab-display-data+json": {
              "pip_warning": {
                "packages": [
                  "numpy"
                ]
              }
            }
          },
          "metadata": {}
        }
      ]
    },
    {
      "cell_type": "code",
      "metadata": {
        "colab": {
          "base_uri": "https://localhost:8080/"
        },
        "id": "UtodD-kz4lib",
        "outputId": "e5033b89-905f-4f72-f606-dd928d497841"
      },
      "source": [
        "import numpy as np\n",
        "import random\n",
        "import matplotlib.pyplot as plt\n",
        "\n",
        "def GenerateA(M,N):\n",
        "  A = np.random.normal(0,1,(M,N))\n",
        "  SumCol = np.linalg.norm(A,axis=0)\n",
        "  Anormed = A / SumCol[np.newaxis,:]\n",
        "  return Anormed\n",
        "\n",
        "print(GenerateA(2,3))\n",
        "\n",
        "def SparseX(N,s):\n",
        "  x = np.zeros(N)\n",
        "  index = np.array(range(N))\n",
        "  index1 = np.random.choice(index,s, replace = False)\n",
        "  for i in index1:\n",
        "    p = random.randint(0,1)\n",
        "    if p == 0:\n",
        "      x[i] = np.random.uniform(-10,-1)\n",
        "    else:\n",
        "      x[i] = np.random.uniform(1,10)\n",
        "  return x,np.ndarray.tolist(index1)\n",
        "\n",
        "\n",
        "print(SparseX(5,2))\n",
        "\n",
        "\n"
      ],
      "execution_count": null,
      "outputs": [
        {
          "output_type": "stream",
          "name": "stdout",
          "text": [
            "[[-0.15836044  0.02121315 -0.87398   ]\n",
            " [ 0.98738137 -0.99977498 -0.48596189]]\n",
            "(array([4.95510786, 0.        , 0.        , 6.71463608, 0.        ]), [0, 3])\n"
          ]
        }
      ]
    },
    {
      "cell_type": "code",
      "metadata": {
        "id": "uRBMEgzEYQkx"
      },
      "source": [
        "def least_square(A,y):\n",
        "  out = np.dot(np.dot(np.linalg.inv(np.dot(np.transpose(A),A)),np.transpose(A)),y)\n",
        "  #out = np.linalg.inv(np.dot(A.T, A)).dot(A.T).dot(y)\n",
        "  return out\n",
        "\n",
        "def omp(A,y):\n",
        "  M = np.shape(A)[0]\n",
        "  N = np.shape(A)[1]\n",
        "  r = np.copy(y)\n",
        "  x_k = np.zeros(N)\n",
        "  indexSet = []\n",
        "  err = np.linalg.norm(r)\n",
        "\n",
        "  while err > 0.0001:\n",
        "    lambdaK = np.argmax(np.abs(np.dot(np.transpose(A),r)))\n",
        "    indexSet.append(lambdaK)\n",
        "\n",
        "    DeltaK = A[:,indexSet]\n",
        "    #print(DeltaK)\n",
        "    #print(y)\n",
        "    a_k = least_square(DeltaK,y)\n",
        "    x_k[indexSet] = a_k\n",
        "\n",
        "    r = y - np.dot(A,x_k)\n",
        "    err = np.linalg.norm(r)\n",
        "    #print(err)\n",
        "\n",
        "  return x_k,indexSet\n",
        "\n",
        "# A = GenerateA(5,10)\n",
        "# x,index = SparseX(10,2)\n",
        "# print(\"A: \", A)\n",
        "# print(\"x: \", x)\n",
        "# print(index)\n",
        "# y = np.dot(A,x)\n",
        "\n",
        "# x_k, i = omp(A,y)\n"
      ],
      "execution_count": null,
      "outputs": []
    },
    {
      "cell_type": "code",
      "metadata": {
        "id": "cKT85dQ7gMLA"
      },
      "source": [
        "def NoiselessCase(N,s_size,mc_time):\n",
        "  M = range(1,N)\n",
        "  S = range(1,s_size)\n",
        "\n",
        "  plot_recover = np.zeros((len(M),len(S)))\n",
        "  plot_normalError = np.zeros((len(M),len(S)))\n",
        "  for m in M:\n",
        "    A = GenerateA(m,N)\n",
        "\n",
        "    for s in S:\n",
        "      \n",
        "\n",
        "      rec_count = 0\n",
        "      normal_error = 0\n",
        "\n",
        "      for i in range(mc_time):\n",
        "        x, sparseIndex = SparseX(N,s)\n",
        "        y = np.dot(A,x)\n",
        "        \n",
        "        x_k, recIndex = omp(A,y) \n",
        "\n",
        "        normal_error += np.linalg.norm(x-x_k)/np.linalg.norm(x)\n",
        "        if len(sparseIndex) == len(recIndex):\n",
        "          #print(recIndex,sparseIndex)\n",
        "          if sorted(recIndex) == sorted(sparseIndex):\n",
        "            rec_count+=1\n",
        "        else:\n",
        "          continue\n",
        "        \n",
        "        \n",
        "\n",
        "      plot_recover[m-1,s-1] = rec_count/mc_time\n",
        "      plot_normalError[m-1,s-1] = normal_error/mc_time\n",
        "\n",
        "  return plot_recover,plot_normalError\n",
        "\n",
        "\n",
        "\n"
      ],
      "execution_count": 119,
      "outputs": []
    },
    {
      "cell_type": "code",
      "metadata": {
        "colab": {
          "base_uri": "https://localhost:8080/",
          "height": 683
        },
        "id": "kVzjudRh5q5p",
        "outputId": "0dc5897d-594b-4153-ff49-dc80e3671de1"
      },
      "source": [
        "p, E = NoiselessCase(20,10,2000)\n",
        "Figure1 = plt.figure(figsize = (5,5))\n",
        "F1 = Figure1.add_subplot(1,1,1)\n",
        "ESR = F1.imshow(p)\n",
        "plt.colorbar(ESR,pad = 0.2)\n",
        "F1.set_xlabel(\"smax\")\n",
        "F1.set_ylabel(\"M\")\n",
        "F1.title.set_text(\"probability of ESR\")\n",
        "plt.savefig('noiseless_20_ESR.png')\n",
        "\n",
        "Figure2 = plt.figure(figsize = (5,5))\n",
        "F2 = Figure2.add_subplot(1,1,1)\n",
        "E = F2.imshow(E)\n",
        "plt.colorbar(E,pad = 0.2)\n",
        "F2.set_xlabel(\"smax\")\n",
        "F2.set_ylabel(\"M\")\n",
        "F2.title.set_text(\"average Normalized Error\")\n",
        "\n",
        "plt.savefig('noiseless_20_Err.png')"
      ],
      "execution_count": 121,
      "outputs": [
        {
          "output_type": "display_data",
          "data": {
            "image/png": "[encoded data removed]",
            "text/plain": [
              "<Figure size 360x360 with 2 Axes>"
            ]
          },
          "metadata": {
            "needs_background": "light"
          }
        },
        {
          "output_type": "display_data",
          "data": {
            "image/png": "[encoded data removed]",
            "text/plain": [
              "<Figure size 360x360 with 2 Axes>"
            ]
          },
          "metadata": {
            "needs_background": "light"
          }
        }
      ]
    },
    {
      "cell_type": "code",
      "metadata": {
        "id": "24tvj9YZWjPd"
      },
      "source": [
        "from google.colab import drive\n",
        "drive.mount('/content/drive')"
      ],
      "execution_count": null,
      "outputs": []
    },
    {
      "cell_type": "code",
      "metadata": {
        "colab": {
          "base_uri": "https://localhost:8080/",
          "height": 683
        },
        "id": "OrwFcMeRQzuL",
        "outputId": "f81d7268-e006-4960-f2ee-e5b134b4b672"
      },
      "source": [
        "p, E = NoiselessCase(50,15,1500)\n",
        "Figure1 = plt.figure(figsize = (5,5))\n",
        "F1 = Figure1.add_subplot(1,1,1)\n",
        "ESR = F1.imshow(p)\n",
        "plt.colorbar(ESR,pad = 0.2)\n",
        "F1.set_xlabel(\"smax\")\n",
        "F1.set_ylabel(\"M\")\n",
        "F1.title.set_text(\"probability of ESR\")\n",
        "plt.savefig('noiseless_50_ESR.png')\n",
        "\n",
        "Figure2 = plt.figure(figsize = (5,5))\n",
        "F2 = Figure2.add_subplot(1,1,1)\n",
        "E = F2.imshow(E)\n",
        "plt.colorbar(E,pad = 0.2)\n",
        "F2.set_xlabel(\"smax\")\n",
        "F2.set_ylabel(\"M\")\n",
        "F2.title.set_text(\"average Normalized Error\")\n",
        "\n",
        "plt.savefig('noiseless_50_Err.png')"
      ],
      "execution_count": 122,
      "outputs": [
        {
          "output_type": "display_data",
          "data": {
            "image/png": "[encoded data removed]",
            "text/plain": [
              "<Figure size 360x360 with 2 Axes>"
            ]
          },
          "metadata": {
            "needs_background": "light"
          }
        },
        {
          "output_type": "display_data",
          "data": {
            "image/png": "[encoded data removed]",
            "text/plain": [
              "<Figure size 360x360 with 2 Axes>"
            ]
          },
          "metadata": {
            "needs_background": "light"
          }
        }
      ]
    },
    {
      "cell_type": "markdown",
      "metadata": {
        "id": "qBWliAa778w0"
      },
      "source": [
        "##Answer\n",
        "As we can see from the ESR plot, when smax > M the plot sharply goes to zero, and when M is larger, the probability of each smax is larger, and the error is smaller.\n",
        "And when the measurement goes larger the probability of exact match goes larger for bigger smaxs"
      ]
    },
    {
      "cell_type": "code",
      "metadata": {
        "id": "7Y-Ay3g1Q5MP"
      },
      "source": [
        "p, E = NoiselessCase(100,20,1000)\n",
        "Figure1 = plt.figure(figsize = (5,5))\n",
        "F1 = Figure1.add_subplot(1,1,1)\n",
        "ESR = F1.imshow(p)\n",
        "plt.colorbar(ESR,pad = 0.2)\n",
        "F1.set_xlabel(\"smax\")\n",
        "F1.set_ylabel(\"M\")\n",
        "F1.title.set_text(\"probability of ESR\")\n",
        "plt.savefig('noiseless_100_ESR.png')\n",
        "\n",
        "Figure2 = plt.figure(figsize = (5,5))\n",
        "F2 = Figure2.add_subplot(1,1,1)\n",
        "E = F2.imshow(E)\n",
        "plt.colorbar(E,pad = 0.2)\n",
        "F2.set_xlabel(\"smax\")\n",
        "F2.set_ylabel(\"M\")\n",
        "F2.title.set_text(\"average Normalized Error\")\n",
        "\n",
        "plt.savefig('noiseless_100_Err.png')"
      ],
      "execution_count": null,
      "outputs": []
    }
  ]
}